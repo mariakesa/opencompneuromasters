{
 "cells": [
  {
   "cell_type": "markdown",
   "metadata": {},
   "source": [
    "# What is a differential equation?"
   ]
  },
  {
   "cell_type": "markdown",
   "metadata": {},
   "source": [
    "# The derivative"
   ]
  },
  {
   "cell_type": "markdown",
   "metadata": {},
   "source": [
    "Just as probability theory deals with quantifying uncertainty, differential equations are in the business of quantifying change. Does a variable increase, decrease, oscillate or stand still in time? In order to quantify the change of a variable in time, we need to look at how it behaves over a time interval. This is akin to measuring the velocity of a bicycle by dividing the distance that it travelled by the time it took to get there, as in the following formula:\n",
    "\n",
    "\n",
    "$$v=\\frac{s}{t}$$\n",
    "\n",
    "where $v$ is the speed, $t$ is time and $s$ is the distance travelled.\n",
    "\n",
    "However, we may be interested in how fast the bicycle is going at a point in time, not an interval, just as if the bicycle had a speedometer. This is where calculus comes in. Calculus takes a leap of faith and defines so called infinitesimal quantities that are defined by letting a quantity go to zero in a limiting process. This allows us to define the derivative of a  function that quantifies how fast a variable is changing at a particular point in time.\n",
    "\n",
    "$$\\frac{dx}{dt}=\\lim_{t\\to 0}\\frac{\\Delta x}{\\Delta t} $$\n",
    "\n",
    "where $dx$ is an infinitesimal change in the variable $x$ and $dt$ is an infinitesimal change in time. Let's say $x$ is akin to the distance that the bicycle has travelled. We can see how the ratio $\\frac{\\Delta x}{\\Delta t}$ behave by steadily decreasing $\\Delta t$. We can set $\\Delta t= 0.1, 0.01, 0.001,0.0001, 0.0001, ...$ and checking the corresponding $\\Delta x$ e.g. the amount by which $x$ has changed during a smaller and smaller time interval. As we do so, and divide $\\Delta x$ by $\\Delta t$ we get a better and better approximation to the instantaneous velocity. \n",
    "\n",
    "!Figure\n",
    "\n",
    "Eventually, this velocity converges to a value which is its derivative or its instantaneous velocity. To generalize from the example of the bicycle, what the derivative really is is the instantaneous rate of change of a quantity. We are interested in using the derivative for modeling neurons, for example we may be interested in how the voltage across the membrane of a model neuron changes in time."
   ]
  },
  {
   "cell_type": "markdown",
   "metadata": {},
   "source": [
    "# Taylor series representation of a derivative"
   ]
  },
  {
   "cell_type": "markdown",
   "metadata": {},
   "source": [
    "The derivative at a point in time $a$ can also be understood as a gain-- a coefficient. We can use Taylor expansion to approximate the function $f$ at the point $a$ with an infinite series:\n",
    "\n",
    "$$f(x)=f(a)+\\frac{df}{dx}\\cdot  (x-a) + \\frac{1}{2!}\\cdot \\frac{d^2 f}{dx^2}\\cdot (x-a)^2 +\\frac{1}{3!}\\cdot \\frac{d^3 f}{dx^3}\\cdot (x-a)^3+...$$\n",
    "\n",
    "If we make a change of variables $x-a=h$, which means that we consider $h$ to be a (small, $<0$) fluctuation around a, the equation becomes:\n",
    "\n",
    "$$f(x)=f(a)+\\frac{df}{dx}\\cdot  h + \\frac{1}{2!}\\cdot \\frac{d^2 f}{dx^2}\\cdot h^2 +\\frac{1}{3!}\\cdot \\frac{d^3 f}{dx^3}\\cdot h^3+...$$\n",
    "\n",
    "Now we can see that the derivative acts like a coefficient to a linear approximation term of the function at point a, $f(x)=f(a)+C \\cdot h$. This can be seen if we agglomerate the rest of the terms into a big-O approximation $O(h^2)$. We get:\n",
    "\n",
    "$$f(x)=f(a)+C \\cdot h +O(h^2)=f(a)+\\frac{df}{dx}\\cdot  h+O(h^2)$$\n",
    "\n",
    "So the derivative is a coefficient or rate of change in a linear approximation of a function $f(x)$ at point $a$, multiplying a small perturbation or fluctuation $h$ around the point.\n",
    "\n",
    "Reference:\n",
    "\n",
    "Coursera Calculus course, professor Ghrist"
   ]
  },
  {
   "cell_type": "markdown",
   "metadata": {},
   "source": [
    "# A differential equation"
   ]
  },
  {
   "cell_type": "markdown",
   "metadata": {},
   "source": [
    "A differential equation represents a relationship between a function and it's derivatives. The objective in solving a differential equation is to find a function whose rates of change as represented by derivatives behave in a particular way. It is important to once again note that a solution to a differential equation is a function or a class of functions. \n",
    "\n",
    "Say we have the following equation:\n",
    "\n",
    "$$2\\cdot\\frac{d^{2}x}{dt^{2}}+7\\cdot\\frac{dx}{dt}=x(t) $$\n",
    "\n",
    "This equation relates a quantity changing in time $x(t)$ to it's first and second derivatives. One of the solutions to this equation is the exponential function $49\\cdot e^{-7\\cdot t}$. You can verify this by taking the first and second derivatives of this function and plugging them into the equation.\n",
    "\n",
    "Differential equations can be used to model the evolution of specified neurobiological variables in a circuit. Quoting Sterratt, et al: \"The variables of the quations represent specific  neurobiological quantities, such as the rate  at hich impulses are propagated along an axon or the frequency of opening of a specific type of ion channel. The equations themselves represent how these quantities  interact  according  to  the  theory  being  expressed  in  the  model. Solving these equations by analytical or simulation techniques enables us to show the behaviour of the model under the given circumstances and thus addresses the questions that the theory was designed to answer. Models of this type can be used as explanatory or predictive tools.\"\n",
    "\n",
    "References:\n",
    "Sterratt, Graham, Gillies, Willshaw. 2011. \"Principles of Computational Modelling in Neuroscience\", Cambridge University Press. "
   ]
  },
  {
   "cell_type": "code",
   "execution_count": null,
   "metadata": {},
   "outputs": [],
   "source": []
  },
  {
   "cell_type": "code",
   "execution_count": null,
   "metadata": {},
   "outputs": [],
   "source": []
  },
  {
   "cell_type": "code",
   "execution_count": null,
   "metadata": {},
   "outputs": [],
   "source": []
  }
 ],
 "metadata": {
  "kernelspec": {
   "display_name": "Python 3",
   "language": "python",
   "name": "python3"
  },
  "language_info": {
   "codemirror_mode": {
    "name": "ipython",
    "version": 3
   },
   "file_extension": ".py",
   "mimetype": "text/x-python",
   "name": "python",
   "nbconvert_exporter": "python",
   "pygments_lexer": "ipython3",
   "version": "3.8.3"
  }
 },
 "nbformat": 4,
 "nbformat_minor": 4
}
