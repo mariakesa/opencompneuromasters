{
 "cells": [
  {
   "cell_type": "markdown",
   "metadata": {},
   "source": [
    "The neuron can be thought of as an electrical circuit. It has ion fluxes through protein doorways that are called ion channels that are sensitive to voltage across the cell membrane. Ionic fluxes through ion channels in the cell membrane have dynamics that can be described by physics and mathematical models. Using concepts from electrical physics we can study how brief pulses of depolarization (the change of the relative voltage between the inside and outside of the cell) called action potentials are generated. Action potentials serve as physical substrates of information exchange between neurons as they form intricate communication and information processing networks. \n",
    "\n",
    "We begin studying the electrical properties of neurons with simplified models that serve as stepping stones to understanding the electro-chemical dynamics of information processing in the brain. In particular, we study how membrane capacitance and resistance allow neurons to integrate and filter synaptic currents over time. "
   ]
  },
  {
   "cell_type": "markdown",
   "metadata": {},
   "source": [
    "# The Cell Membrane"
   ]
  },
  {
   "cell_type": "markdown",
   "metadata": {},
   "source": [
    "The membrane of a cell is what defines its identity in relation to its surroundings. It is an extremely thin sheet (5-10 nm, 1000 x thinner than the human hair) of polarized phospholipids. A phospholipid molecule consists of a charged phosphite molecule and a long electrically neutral hydrocarbon chain. When placed in water, phospholipids self-organize into a bilayer, meaning that the charged hydrophilic phosphite molecules interface with water while the hydrophobic electrically neutral hydrocarbon chains hide themselves from the water medium. It's like a molecular sandwich with the phosphites forming the bun and the hydrocarbon chains forming the veggie patty. \n",
    "\n",
    "The cell membrane insulates the inside from the outside and its hydrophobic part prevents the movement of ions across it. However, life would be boring if the cell was merely a blob that could not exchange matter information with its environment. That's why cells evolved membrane spanning proteins called ion channels. They are like doors, some of them with key holes (meaning that they only open when a specific molecule binds to it), others opening in response to the change the difference in positive and negative ion concentration between the inside and outside of the cell (charge difference or voltage) and still others that are always open. These ion channels allow specific ions to pass through the membrane and thus enable intermembrane ion fluxes.\n",
    "\n",
    "In nerve cells, the concentration of ions is different in the inside and outside of the cell. The water in which the cell is embedded and is filled with acts as a polar solvent that dissolves small inorganic molecules. The water is a medium or a \"wire\" that conducts the various ionic flows that act as a substrate for biological information processing. Sodium, chloride (a good way to remember that is that Na and Cl are basically dissociated salt molecules, therefore the neuron is essentially embedded in salt water exactly as it evolved from single cells in the primodial ocean, there are about $6\n",
    "\\cdot 10^{19}$ salt molecules dissolved in a cubic centimeter of an extracellular solution-- by comparison the age of the Universe is on the order of $10^{17}$ seconds) and calcium ions are more abundant outside of the cell membrane and potassium ions are more abundant inside. Also, there is a difference in charge concetration between the inside and the outside of the membrane which gives rise to a voltage difference. This voltage difference is essential for neural signaling and one of the bases of action potentials.\n",
    "\n",
    "The so called power supplies of the membrane, i.e. the molecular elements that maintain a voltage difference between the inside and outside of the cell, are the membrane-spanning ion pumps. They use energy to export three sodium ions  and import two potassium ions in one cycle of operation. They need ATP (energy) for that because sodium is more abundant outside of the cell and potassium is more abundant inside the cell, they are thus working against the concentration gradient. \n",
    "\n",
    "\n",
    "It is the movement of ions across the cell membrane that generates the electrical signals in the brain. Ion channels are the basis of neural signaling that forms the information content of all of our thoughts. "
   ]
  },
  {
   "cell_type": "markdown",
   "metadata": {},
   "source": [
    "# Capacitance"
   ]
  },
  {
   "cell_type": "markdown",
   "metadata": {},
   "source": [
    "A capacitor in an electric circuit is an element that doesn't let charged particles get through. Ions accumulate on the opposing sides of the capacitor. It is thus said to store charge. In the neuronal membrane, the capacitor is the phospholipid bilayer. It lets the neuronal membrane to act as an integrator of past inputs. \n",
    "\n",
    "The formula for capicance is:\n",
    "\n",
    "$C=\\frac{q}{V}$\n",
    "\n",
    "where $q$ is charge and $V$ is voltage.\n",
    "\n",
    "The physical unit of capacitance is Farad. \n"
   ]
  },
  {
   "cell_type": "markdown",
   "metadata": {},
   "source": [
    "# Resistance"
   ]
  },
  {
   "cell_type": "markdown",
   "metadata": {},
   "source": [
    "\n",
    "\n",
    "The capacitor and resistor that are connected in parallel in an electric circuit act as temporal filters that smooth the synaptic input over time."
   ]
  },
  {
   "cell_type": "markdown",
   "metadata": {},
   "source": [
    "# Voltage"
   ]
  },
  {
   "cell_type": "markdown",
   "metadata": {},
   "source": [
    "Voltage is the difference in electrical potential between two points (e.g. how much net positive and negative charge are at two points). The formula for voltage is:\n",
    "\n",
    "$V=I \\cdot R$\n",
    "\n",
    "where $I$ is the current and $R$ is the resistance.\n",
    "\n",
    "The physical unit of voltage is Volt.\n",
    "\n",
    "Neural computation and signaling is influenced by the fluctuations of voltage differences across the cell membrane. The voltage across the cell membrane changes because of the injection of synaptic currents. This is how information flow from the neuronal network that a cell is embedded in drives these voltage fluctuations.\n",
    "\n",
    "Voltage changes are very fast, so they are an ideal substrate for propagating information in the brain, considering that the world changes very fast and neural systems have to be able to detect and react to these events."
   ]
  },
  {
   "cell_type": "markdown",
   "metadata": {},
   "source": [
    "# Ionic current"
   ]
  },
  {
   "cell_type": "markdown",
   "metadata": {},
   "source": [
    "Currents flow through the cell membrane due to two driving forces: diffusion and electrostatic forces (drift of charged particles in an electric field). Because there is an uneven concentration of different ions inside and outside the cell membrane, these concentration gradients act as one of the driving forces for intracellular ionic currents and when ion channels for a particular ion open in the membrane, those particular ions will flow down their concentration gradient. This is because they \"want\" to achieve an equilibrium in their distribution, i.e. they will tend to redistribute themselves so that their distribution is even, meaning that they will flow in a direction where there is less of them. Diffusion depends on the temperature of the system. Diffusion is the cause of the redistribution of dye when you drop a few drops into a water container. \n",
    "\n",
    "During diffusion particles move and collide with each other and thus trace out random trajectories called a random walk. For example, a sodium ion in a physiological solution will collide with another molecule $10^{13}$ times per second. Diffusion is fast at short length scales. To diffuse across a cell body (10 micrometers) takes 50 milliseconds. Diffusion is slow at large length scales. To diffuse down a dendrite (1 millimeter) takes 10 minutes. To diffuse from the cell body down the motor neuron axon (1 m) it takes 10 years. "
   ]
  },
  {
   "cell_type": "markdown",
   "metadata": {},
   "source": [
    "# RC-Circuit -- The Passive Membrane"
   ]
  },
  {
   "cell_type": "markdown",
   "metadata": {},
   "source": [
    "In the passive membrane model, the resistance of the membrane, which corresponds to the ion channels embedded in it, is independent of the voltage across the membrane. In this model, the membrane is an RC-circuit composed of ion channels that are not sensitive to voltage-- the resistors R and the lipid bilayer which insulates the inside of the cell from its outside-- the capacitor C. \n",
    "\n",
    "When a pre-synaptic spike induces the transport of neurotransmitters across the synaptic junction and their binding to the post-synaptic ion channel receptors, these ion channels can open and let ions through. This flow of ions across the cell membrane is a current. \n",
    "\n",
    "The ionic current in this process thus splits into two components: the current that spreads itself on the capacitor and the current that goes through the resistor (through the ion channels). The current is thus \"filtered\" by the membrane. \n",
    "\n",
    "The impulse response function of this membrane, i.e. the RC-circuit, in terms of the voltage fluctuation induced by a brief pulse of current is an exponentially decaying function. Because the RC-circuit is linear, when we simulate multiple pulses of current going through the circuit, the resulting voltage response of the circuit is the convolution of the impulse response function with the timeseries of pulses. This means that the impulse responses add up linearly. For arbitrary time-dependent current input, we again convolve this current with the impulse response function. \n",
    "\n",
    "Let's now derive a differential equation to describe the response of the RC-circuit to a time-dependent current input. \n",
    "\n",
    "Membrane spanning ion pumps and the push-and-pull of diffusion and electrostatic forces on ions create an equilibrium potential that is maintained in the lack of current input. This membrane potential is called $V_{rest}$ and is like a battery in the RC-circuit. Okay, so we inject some current into the circuit. As mentioned before this current will split into a current that goes onto the capacitor ($I_{C}$) and a current that goes through the resistor ($I_{R}$). Therefore, because the total current is conserved:\n",
    "\n",
    "$I_{ext}=I_{R}+I_{C}$\n",
    "\n",
    "Let's take a look at the capacitive current (see also the section above).\n",
    "\n",
    "$C=\\frac{q}{V}$\n",
    "$q=V \\cdot C $\n",
    "Because current is just a flow of charge in time, we can construct the following differential equation by differentiating both terms with respect to time:\n",
    "\n",
    "$I_{C}=\\frac{dq}{dt}=C \\cdot \\frac{dV}{dt}$\n",
    "\n",
    "What about the current on the resistor? The voltage across the resistor is described by the following equation:\n",
    "\n",
    "\n",
    "$V-V_{rest}=I_{R} \\cdot R$\n",
    "\n",
    "$I_{R}=\\frac{V-V_{rest}}{R}$\n",
    "\n",
    "Pluggin these two equations into the equation for the total current we have:\n",
    "\n",
    "$I_{ext}=\\frac{V-V_{rest}}{R}+C \\cdot \\frac{dV}{dt}$\n",
    "\n",
    "Because we care about the evolution of voltage across the cell membrane, we can then re-arrange the terms:\n",
    "\n",
    "$C \\cdot \\frac{dV}{dt}=-\\frac{V-V_{rest}}{R}+ I_{ext}$\n",
    "\n",
    "Another slight re-arrangement: we can multiply both sides by $R$. The term $R \\cdot C$ is a constant that characterizes how fast the RC-circuit integrates inputs and it's called $\\tau$ (it's the time-constant of the RC-circuit). \n",
    "\n",
    "$\\tau \\cdot \\frac{dV}{dt}=-(V-V_{rest})+ R \\cdot I_{ext}$\n",
    "\n"
   ]
  },
  {
   "cell_type": "markdown",
   "metadata": {},
   "source": [
    "# Response to current input"
   ]
  },
  {
   "cell_type": "markdown",
   "metadata": {},
   "source": [
    "We want to see how an RC-circuit responds to different current inputs. \n",
    "\n",
    "Consider the following experimental set up: a neuron is resting in a saline dish. We insert two electrodes through its membrane, one to measure the voltage difference between the intracellular and extracellular medium and one to inject currents into the neuron. We do this because we want to understand how the neuron transforms the synaptic currents from sensory input and other neurons into a characteristic response. We now set out to model this experimental set up."
   ]
  }
 ],
 "metadata": {
  "kernelspec": {
   "display_name": "Python 3",
   "language": "python",
   "name": "python3"
  },
  "language_info": {
   "codemirror_mode": {
    "name": "ipython",
    "version": 3
   },
   "file_extension": ".py",
   "mimetype": "text/x-python",
   "name": "python",
   "nbconvert_exporter": "python",
   "pygments_lexer": "ipython3",
   "version": "3.8.3"
  }
 },
 "nbformat": 4,
 "nbformat_minor": 4
}
