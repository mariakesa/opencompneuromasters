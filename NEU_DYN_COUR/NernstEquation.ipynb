{
 "cells": [
  {
   "cell_type": "markdown",
   "metadata": {},
   "source": [
    "The difference in concentration of charged ions between the inside and outside of the cell creates a driving force for the electrical responses of a neuron. This driving force behaves as an electrical battery. Our aim of this notebook is to understand where this electrical driving force, this battery comes from. We are going to determine which way a potassium, sodium, calcium or cloride ion will flow if an ion channel that lets it pass through is open. This is related to the question of why is there a voltage difference across the cell membrane when the neuron is at rest (resting potential).\n",
    "\n"
   ]
  }
 ],
 "metadata": {
  "kernelspec": {
   "display_name": "Python 3",
   "language": "python",
   "name": "python3"
  },
  "language_info": {
   "codemirror_mode": {
    "name": "ipython",
    "version": 3
   },
   "file_extension": ".py",
   "mimetype": "text/x-python",
   "name": "python",
   "nbconvert_exporter": "python",
   "pygments_lexer": "ipython3",
   "version": "3.8.3"
  }
 },
 "nbformat": 4,
 "nbformat_minor": 4
}
