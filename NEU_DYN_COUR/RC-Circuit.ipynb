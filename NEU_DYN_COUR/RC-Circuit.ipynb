{
 "cells": [
  {
   "cell_type": "markdown",
   "metadata": {},
   "source": [
    "The neuron can be thought of as an electrical element. It has ion fluxes through protein doorways that are called ion channels that are sensitive to voltage across the cell membrane. Ionic fluxes through ion channels in the cell membrane have dynamics that can be described by physics and mathematical models. Using concepts from electrical physics we can study how brief pulses of depolarization (the change of the relative voltage between the inside and outside of the cell) called action potentials are generated. Action potentials serve as physical substrates of information exchange between neurons as they form intricate communication and information processing networks. \n",
    "\n",
    "We begin studying the electrical properties of neurons with simplified models that serve as stepping stones to understanding the electro-chemical dynamics of information processing in the brain."
   ]
  },
  {
   "cell_type": "markdown",
   "metadata": {},
   "source": [
    "# The Cell Membrane"
   ]
  },
  {
   "cell_type": "markdown",
   "metadata": {},
   "source": [
    "The membrane of a cell is what defines its identity in relation to it's surroundings. It is an extremely thin sheet (8-10 nm, 1000 x thinner than the human hair) of polarized phospholipids. A phospholipid molecule consists of a charged phosphite molecule and a long electrically neutral hydrocarbon chain. When placed in water, phospholipids self-organize into a bilayer, meaning that the charged hydrophilic phosphite molecules interface with water while the hydrophobic electrically neutral hydrocarbon chains hide themselves from the water medium. It's like a molecular sandwhich with the phosphites forming the bun and the hydrocarbon chains forming the veggie patty. \n",
    "\n",
    "The cell membrane is an insulates the inside from the outside and its hydrophobic part prevents the movement of ions across it. However, life would be boring if the cell was merely a blob that could not exchange matter information with its environment. That's why cells evolved membrane spanning proteins called ion channels. They are like doors, some of them with key holes (meaning that they only open when a specific molecule binds to it), others opening in response to the change the difference in positive and negative ion concentration between the inside and outside of the cell (charge difference or voltage) and still others that are always open. These ion channels allow specific ions to pass through the membrane and thus enable intra-membrane ion fluxes.\n",
    "\n",
    "It is the movement of ions across the cell membrane that generates the electrical signals in the brain. Ion channels are the basis of neural signaling that forms the information content of all of our thoughts. "
   ]
  },
  {
   "cell_type": "markdown",
   "metadata": {},
   "source": [
    "# Capacitance"
   ]
  },
  {
   "cell_type": "markdown",
   "metadata": {},
   "source": [
    "A capacitor in an electric circuit is an element that doesn't let charged particles get through. Ions that accumulate on the opposing sides of the capacitor. It is thus said to store charge. The formula for capicance is:\n",
    "\n",
    "$C=\\frac{q}{V}$\n",
    "\n",
    "where $q$ is charge and $V$ is voltage.\n",
    "\n",
    "The physical unit of capacitance is Farad. \n"
   ]
  },
  {
   "cell_type": "markdown",
   "metadata": {},
   "source": [
    "# Resistance"
   ]
  },
  {
   "cell_type": "code",
   "execution_count": null,
   "metadata": {},
   "outputs": [],
   "source": []
  },
  {
   "cell_type": "markdown",
   "metadata": {},
   "source": [
    "# Ionic current"
   ]
  }
 ],
 "metadata": {
  "kernelspec": {
   "display_name": "Python 3",
   "language": "python",
   "name": "python3"
  },
  "language_info": {
   "codemirror_mode": {
    "name": "ipython",
    "version": 3
   },
   "file_extension": ".py",
   "mimetype": "text/x-python",
   "name": "python",
   "nbconvert_exporter": "python",
   "pygments_lexer": "ipython3",
   "version": "3.8.3"
  }
 },
 "nbformat": 4,
 "nbformat_minor": 4
}
