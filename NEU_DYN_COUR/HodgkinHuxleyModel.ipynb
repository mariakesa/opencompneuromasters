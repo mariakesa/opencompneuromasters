{
 "cells": [
  {
   "cell_type": "markdown",
   "metadata": {},
   "source": [
    "We have previously looked at simplified neural models that spike when the membrane potential of a neuron reaches a pre-specified threshold value (integrate-and-fire models). It is now time to look at more detailed biophysical models that address the generation of a spike via modeling voltage-sensitive sodium and potassium channels in the cell membrane.\n",
    "\n",
    "Alan Hodgkin and Andrew Huxley received the Nobel Prize in Physiology or Medicine in 1963 for their quantitative model of action potential generation that they discovered through experiments on the giant squid axon in 1952. They created a voltage-clamp experiment to measure conductances in the giant squid axon and fit a model to the data which allowed them to write down a differential "
   ]
  }
 ],
 "metadata": {
  "kernelspec": {
   "display_name": "Python 3",
   "language": "python",
   "name": "python3"
  },
  "language_info": {
   "codemirror_mode": {
    "name": "ipython",
    "version": 3
   },
   "file_extension": ".py",
   "mimetype": "text/x-python",
   "name": "python",
   "nbconvert_exporter": "python",
   "pygments_lexer": "ipython3",
   "version": "3.8.3"
  }
 },
 "nbformat": 4,
 "nbformat_minor": 4
}
